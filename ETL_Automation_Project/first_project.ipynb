{
 "cells": [
  {
   "cell_type": "code",
   "execution_count": null,
   "id": "ae08eab0-bb0c-44a2-9bf8-24429dc32807",
   "metadata": {},
   "outputs": [],
   "source": [
    "ak=('a','m','i','t')"
   ]
  },
  {
   "cell_type": "raw",
   "id": "1937f275-90ee-47dd-a8d9-337c8db5da69",
   "metadata": {},
   "source": [
    "import pandas as pd"
   ]
  },
  {
   "cell_type": "code",
   "execution_count": 12,
   "id": "98e6e622-6a05-4d0d-8fce-239fdfada79b",
   "metadata": {},
   "outputs": [],
   "source": [
    "sample_dict={'animal':['tiger','lion','elephant'],\n",
    "            'bird':['parrot','crow','egal']}"
   ]
  },
  {
   "cell_type": "code",
   "execution_count": 13,
   "id": "2f9ba991-765f-4e99-a88f-d477671093be",
   "metadata": {},
   "outputs": [],
   "source": [
    "sd=sample_dict['animal']"
   ]
  },
  {
   "cell_type": "code",
   "execution_count": 14,
   "id": "7ea0f323-de72-4cc9-8274-66317ddd7930",
   "metadata": {},
   "outputs": [
    {
     "name": "stdout",
     "output_type": "stream",
     "text": [
      "['tiger', 'lion', 'elephant']\n"
     ]
    }
   ],
   "source": [
    "print(sd)"
   ]
  },
  {
   "cell_type": "code",
   "execution_count": 15,
   "id": "64db5659-8e23-4ce0-9a30-22b1028f5f5f",
   "metadata": {},
   "outputs": [
    {
     "ename": "NameError",
     "evalue": "name 'pd' is not defined",
     "output_type": "error",
     "traceback": [
      "\u001b[1;31m---------------------------------------------------------------------------\u001b[0m",
      "\u001b[1;31mNameError\u001b[0m                                 Traceback (most recent call last)",
      "Cell \u001b[1;32mIn[15], line 1\u001b[0m\n\u001b[1;32m----> 1\u001b[0m \u001b[43mpd\u001b[49m\u001b[38;5;241m.\u001b[39mDataFrame(sample_dict)\n",
      "\u001b[1;31mNameError\u001b[0m: name 'pd' is not defined"
     ]
    }
   ],
   "source": [
    "pd.DataFrame(sample_dict)"
   ]
  },
  {
   "cell_type": "raw",
   "id": "aa95b139-5f38-40c7-ba46-6d9c2910358d",
   "metadata": {},
   "source": [
    "print(df)"
   ]
  },
  {
   "cell_type": "code",
   "execution_count": null,
   "id": "2240b90e-5aa9-47f8-b593-a26d3578b0e3",
   "metadata": {},
   "outputs": [],
   "source": []
  }
 ],
 "metadata": {
  "kernelspec": {
   "display_name": "Python 3 (ipykernel)",
   "language": "python",
   "name": "python3"
  },
  "language_info": {
   "codemirror_mode": {
    "name": "ipython",
    "version": 3
   },
   "file_extension": ".py",
   "mimetype": "text/x-python",
   "name": "python",
   "nbconvert_exporter": "python",
   "pygments_lexer": "ipython3",
   "version": "3.13.1"
  }
 },
 "nbformat": 4,
 "nbformat_minor": 5
}
